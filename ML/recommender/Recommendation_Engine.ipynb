{
 "cells": [
  {
   "cell_type": "markdown",
   "id": "6211de19",
   "metadata": {},
   "source": [
    "# Skincare Recommendation Engine\n"
   ]
  },
  {
   "cell_type": "markdown",
   "id": "c3e146c2",
   "metadata": {},
   "source": [
    "This notebook walks you through the development of a content-based recommendation engine that should take a list of skin metrics/concerns (skin type, tone, acne, blemishes, redness, etc) as input and return several products that might suit the user's skin. "
   ]
  },
  {
   "cell_type": "code",
   "execution_count": 1,
   "id": "e02d4282",
   "metadata": {},
   "outputs": [],
   "source": [
    "import numpy as np \n",
    "import pandas as pd\n",
    "from sklearn.metrics.pairwise import cosine_similarity\n",
    "import heapq\n"
   ]
  },
  {
   "cell_type": "code",
   "execution_count": 2,
   "id": "f2339cd0",
   "metadata": {},
   "outputs": [],
   "source": [
    "# 'essentials' implies essential facial skincare products\n",
    "df = pd.read_csv('result.csv')\n",
    "   \n",
    "makeup = pd.read_csv('result2.csv')"
   ]
  },
  {
   "cell_type": "code",
   "execution_count": 3,
   "id": "5c62b323",
   "metadata": {},
   "outputs": [
    {
     "data": {
      "text/html": [
       "<div>\n",
       "<style scoped>\n",
       "    .dataframe tbody tr th:only-of-type {\n",
       "        vertical-align: middle;\n",
       "    }\n",
       "\n",
       "    .dataframe tbody tr th {\n",
       "        vertical-align: top;\n",
       "    }\n",
       "\n",
       "    .dataframe thead th {\n",
       "        text-align: right;\n",
       "    }\n",
       "</style>\n",
       "<table border=\"1\" class=\"dataframe\">\n",
       "  <thead>\n",
       "    <tr style=\"text-align: right;\">\n",
       "      <th></th>\n",
       "      <th>label</th>\n",
       "      <th>url</th>\n",
       "      <th>brand</th>\n",
       "      <th>name</th>\n",
       "      <th>price</th>\n",
       "      <th>skin type</th>\n",
       "      <th>spf</th>\n",
       "      <th>concern</th>\n",
       "      <th>concern 2</th>\n",
       "      <th>concern 3</th>\n",
       "      <th>key ingredient</th>\n",
       "      <th>formulation</th>\n",
       "    </tr>\n",
       "  </thead>\n",
       "  <tbody>\n",
       "    <tr>\n",
       "      <th>0</th>\n",
       "      <td>face-moisturisers</td>\n",
       "      <td>https://www.myntra.com/face-moisturisers/lakme...</td>\n",
       "      <td>Lakme</td>\n",
       "      <td>Absolute Perfect Radiance Skin Lightening Day ...</td>\n",
       "      <td>₹ 79</td>\n",
       "      <td>All</td>\n",
       "      <td>NaN</td>\n",
       "      <td>General Care</td>\n",
       "      <td>NaN</td>\n",
       "      <td>NaN</td>\n",
       "      <td>NaN</td>\n",
       "      <td>Cream</td>\n",
       "    </tr>\n",
       "    <tr>\n",
       "      <th>1</th>\n",
       "      <td>face-moisturisers</td>\n",
       "      <td>https://www.myntra.com/face-moisturisers/bioti...</td>\n",
       "      <td>Biotique</td>\n",
       "      <td>Bio Morning Nectar Flawless Sustainable Skin M...</td>\n",
       "      <td>₹ 165</td>\n",
       "      <td>All</td>\n",
       "      <td>NaN</td>\n",
       "      <td>Uneven Skin Tone</td>\n",
       "      <td>Hydration</td>\n",
       "      <td>Dark Spots</td>\n",
       "      <td>Honey</td>\n",
       "      <td>Lotion</td>\n",
       "    </tr>\n",
       "    <tr>\n",
       "      <th>2</th>\n",
       "      <td>face-moisturisers</td>\n",
       "      <td>https://www.myntra.com/face-moisturisers/nivea...</td>\n",
       "      <td>Nivea</td>\n",
       "      <td>Unisex Aloe Hydration Skin Cream 100 ml</td>\n",
       "      <td>₹ 92</td>\n",
       "      <td>All</td>\n",
       "      <td>NaN</td>\n",
       "      <td>Dull Skin</td>\n",
       "      <td>Dryness</td>\n",
       "      <td>General Care</td>\n",
       "      <td>Aloe Vera</td>\n",
       "      <td>Cream</td>\n",
       "    </tr>\n",
       "    <tr>\n",
       "      <th>3</th>\n",
       "      <td>face-moisturisers</td>\n",
       "      <td>https://www.myntra.com/face-moisturisers/vi-jo...</td>\n",
       "      <td>VI-JOHN</td>\n",
       "      <td>Women Set of 5 Saffron Fairness Cream Advanced</td>\n",
       "      <td>₹ 187</td>\n",
       "      <td>All</td>\n",
       "      <td>15 to 30</td>\n",
       "      <td>Softening and Smoothening</td>\n",
       "      <td>Softening and Smoothening</td>\n",
       "      <td>Sun Protection</td>\n",
       "      <td>Vitamin E</td>\n",
       "      <td>Cream</td>\n",
       "    </tr>\n",
       "    <tr>\n",
       "      <th>4</th>\n",
       "      <td>face-moisturisers</td>\n",
       "      <td>https://www.myntra.com/face-moisturisers/lakme...</td>\n",
       "      <td>Lakme</td>\n",
       "      <td>Peach Milk Soft Creme 150g</td>\n",
       "      <td>₹ 192</td>\n",
       "      <td>All</td>\n",
       "      <td>NaN</td>\n",
       "      <td>General Care</td>\n",
       "      <td>NaN</td>\n",
       "      <td>NaN</td>\n",
       "      <td>NaN</td>\n",
       "      <td>Cream</td>\n",
       "    </tr>\n",
       "  </tbody>\n",
       "</table>\n",
       "</div>"
      ],
      "text/plain": [
       "               label                                                url  \\\n",
       "0  face-moisturisers  https://www.myntra.com/face-moisturisers/lakme...   \n",
       "1  face-moisturisers  https://www.myntra.com/face-moisturisers/bioti...   \n",
       "2  face-moisturisers  https://www.myntra.com/face-moisturisers/nivea...   \n",
       "3  face-moisturisers  https://www.myntra.com/face-moisturisers/vi-jo...   \n",
       "4  face-moisturisers  https://www.myntra.com/face-moisturisers/lakme...   \n",
       "\n",
       "      brand                                               name  price  \\\n",
       "0     Lakme  Absolute Perfect Radiance Skin Lightening Day ...   ₹ 79   \n",
       "1  Biotique  Bio Morning Nectar Flawless Sustainable Skin M...  ₹ 165   \n",
       "2     Nivea            Unisex Aloe Hydration Skin Cream 100 ml   ₹ 92   \n",
       "3   VI-JOHN     Women Set of 5 Saffron Fairness Cream Advanced  ₹ 187   \n",
       "4     Lakme                         Peach Milk Soft Creme 150g  ₹ 192   \n",
       "\n",
       "  skin type       spf                    concern                  concern 2  \\\n",
       "0       All       NaN               General Care                        NaN   \n",
       "1       All       NaN           Uneven Skin Tone                  Hydration   \n",
       "2       All       NaN                  Dull Skin                    Dryness   \n",
       "3       All  15 to 30  Softening and Smoothening  Softening and Smoothening   \n",
       "4       All       NaN               General Care                        NaN   \n",
       "\n",
       "        concern 3 key ingredient formulation  \n",
       "0             NaN            NaN       Cream  \n",
       "1      Dark Spots          Honey      Lotion  \n",
       "2    General Care      Aloe Vera       Cream  \n",
       "3  Sun Protection      Vitamin E       Cream  \n",
       "4             NaN            NaN       Cream  "
      ]
     },
     "execution_count": 3,
     "metadata": {},
     "output_type": "execute_result"
    }
   ],
   "source": [
    "df.head()"
   ]
  },
  {
   "cell_type": "code",
   "execution_count": 4,
   "id": "17bac683",
   "metadata": {},
   "outputs": [
    {
     "data": {
      "text/plain": [
       "Light to Medium    317\n",
       "Fair to Light      109\n",
       "Medium to Dark      49\n",
       "Dark to Deep        19\n",
       "Name: skin tone, dtype: int64"
      ]
     },
     "execution_count": 4,
     "metadata": {},
     "output_type": "execute_result"
    }
   ],
   "source": [
    "makeup['skin tone'].value_counts()\n"
   ]
  },
  {
   "cell_type": "markdown",
   "id": "118feb49",
   "metadata": {},
   "source": [
    "## Data Preprocessing"
   ]
  },
  {
   "cell_type": "markdown",
   "id": "9d652c91",
   "metadata": {},
   "source": [
    "## Imputation of values"
   ]
  },
  {
   "cell_type": "code",
   "execution_count": 5,
   "id": "3860a004",
   "metadata": {
    "scrolled": true
   },
   "outputs": [
    {
     "data": {
      "text/plain": [
       "face-moisturisers    300\n",
       "cleanser             300\n",
       "concealer            300\n",
       "mask-and-peel        300\n",
       "foundation           300\n",
       "sunscreen            272\n",
       "eye-cream            100\n",
       "Name: label, dtype: int64"
      ]
     },
     "execution_count": 5,
     "metadata": {},
     "output_type": "execute_result"
    }
   ],
   "source": [
    "df['label'].value_counts()"
   ]
  },
  {
   "cell_type": "code",
   "execution_count": 6,
   "id": "2f9db474",
   "metadata": {},
   "outputs": [
    {
     "data": {
      "text/plain": [
       "label                0\n",
       "url                  0\n",
       "brand               46\n",
       "name                46\n",
       "price               46\n",
       "skin type          309\n",
       "spf               1452\n",
       "concern            380\n",
       "concern 2         1136\n",
       "concern 3         1319\n",
       "key ingredient    1159\n",
       "formulation        384\n",
       "dtype: int64"
      ]
     },
     "execution_count": 6,
     "metadata": {},
     "output_type": "execute_result"
    }
   ],
   "source": [
    "df.isna().sum()"
   ]
  },
  {
   "cell_type": "code",
   "execution_count": 7,
   "id": "5a386d84",
   "metadata": {},
   "outputs": [],
   "source": [
    "df['concern 2'].fillna('', inplace = True)\n",
    "df['concern 3'].fillna('', inplace = True)\n",
    "df['concern'] = df['concern'] + ',' + df['concern 2'] + ',' + df['concern 3']\n"
   ]
  },
  {
   "cell_type": "code",
   "execution_count": 8,
   "id": "251108c2",
   "metadata": {},
   "outputs": [
    {
     "data": {
      "text/plain": [
       "0                                          General Care,,\n",
       "1                   Uneven Skin Tone,Hydration,Dark Spots\n",
       "2                          Dull Skin,Dryness,General Care\n",
       "3       Softening and Smoothening,Softening and Smooth...\n",
       "4                                          General Care,,\n",
       "                              ...                        \n",
       "1867                                       Dark Circles,,\n",
       "1868                Fine Lines and Wrinkles,Dark Circles,\n",
       "1869                   Dark Circles,Dark Circles,Eye Bags\n",
       "1870                                                  NaN\n",
       "1871                        Dark Circles,Eye Bags,Dryness\n",
       "Name: concern, Length: 1872, dtype: object"
      ]
     },
     "execution_count": 8,
     "metadata": {},
     "output_type": "execute_result"
    }
   ],
   "source": [
    "df['concern']"
   ]
  },
  {
   "cell_type": "code",
   "execution_count": 9,
   "id": "857ab1c2",
   "metadata": {},
   "outputs": [
    {
     "data": {
      "text/plain": [
       "Sun Protection,,                                      202\n",
       "Dark Spots,,                                           81\n",
       "General Care,,                                         68\n",
       "Dark Circles,,                                         51\n",
       "Fine Lines and Wrinkles,,                              43\n",
       "                                                     ... \n",
       "Sun Protection,Redness,Uneven Skin Tone                 1\n",
       "Hydration,Anti-Pollution,Softening and Smoothening      1\n",
       "Tan Removal,Blackheads and Whiteheads,                  1\n",
       "Fine Lines and Wrinkles,Dryness,Eye Bags                1\n",
       "Oil Control,Pore Care,Dull Skin                         1\n",
       "Name: concern, Length: 438, dtype: int64"
      ]
     },
     "execution_count": 9,
     "metadata": {},
     "output_type": "execute_result"
    }
   ],
   "source": [
    "df.drop(columns=['concern 2', 'concern 3', 'spf', 'key ingredient', 'formulation'], inplace = True)\n",
    "df['concern'].value_counts()"
   ]
  },
  {
   "cell_type": "code",
   "execution_count": 10,
   "id": "e8770c2a",
   "metadata": {},
   "outputs": [],
   "source": [
    "df2 = df[((df['label'] == 'face-moisturisers') | (df['label'] == 'mask-and-peel') | (df['label'] == 'cleanser') | (df['label'] == 'eye-cream'))]\n",
    "df2\n",
    "LABELS = list(df2.label.unique())"
   ]
  },
  {
   "cell_type": "code",
   "execution_count": 11,
   "id": "8d66115c",
   "metadata": {
    "scrolled": true
   },
   "outputs": [
    {
     "name": "stdout",
     "output_type": "stream",
     "text": [
      "<class 'pandas.core.frame.DataFrame'>\n",
      "Int64Index: 967 entries, 0 to 966\n",
      "Data columns (total 7 columns):\n",
      " #   Column     Non-Null Count  Dtype \n",
      "---  ------     --------------  ----- \n",
      " 0   label      967 non-null    object\n",
      " 1   url        967 non-null    object\n",
      " 2   brand      967 non-null    object\n",
      " 3   name       967 non-null    object\n",
      " 4   price      967 non-null    object\n",
      " 5   skin type  967 non-null    object\n",
      " 6   concern    939 non-null    object\n",
      "dtypes: object(7)\n",
      "memory usage: 60.4+ KB\n"
     ]
    }
   ],
   "source": [
    "df2 = df2[df2['skin type'].isna() == False]\n",
    "df2.index = [i for i in range(0, len(df2))]\n",
    "df2.info()"
   ]
  },
  {
   "cell_type": "code",
   "execution_count": 12,
   "id": "7721054c",
   "metadata": {},
   "outputs": [
    {
     "data": {
      "text/plain": [
       "face-moisturisers    10\n",
       "mask-and-peel         9\n",
       "cleanser              5\n",
       "eye-cream             4\n",
       "Name: label, dtype: int64"
      ]
     },
     "execution_count": 12,
     "metadata": {},
     "output_type": "execute_result"
    }
   ],
   "source": [
    "df2[df2['concern'].isna() == True]['label'].value_counts()"
   ]
  },
  {
   "cell_type": "code",
   "execution_count": 13,
   "id": "be8a25ec",
   "metadata": {},
   "outputs": [
    {
     "data": {
      "text/plain": [
       "Fine Lines and Wrinkles,Dark Circles,Eye Bags    16\n",
       "Dark Circles,Eye Bags,                           12\n",
       "Dark Circles,,                                   11\n",
       "Fine Lines and Wrinkles,Dark Circles,             9\n",
       "Dark Circles,Dark Circles,Eye Bags                8\n",
       "Dark Circles,Eye Bags,Dryness                     7\n",
       "Dark Circles,Eye Bags,Dark Circles                6\n",
       "Dark Circles,Dryness,                             3\n",
       "Fine Lines and Wrinkles,Dryness,                  3\n",
       "Fine Lines and Wrinkles,,                         3\n",
       "Dryness,Dark Circles,                             3\n",
       "Fine Lines and Wrinkles,Dark Circles,Dryness      2\n",
       "Lightening,Dark Circles,Eye Bags                  2\n",
       "Dryness,Eye Bags,Dark Circles                     2\n",
       "Dryness,,                                         2\n",
       "Dark Circles,Dryness,Eye Bags                     1\n",
       "Dark Circles,Dark Circles,                        1\n",
       "Fine Lines and Wrinkles,Dryness,Eye Bags          1\n",
       "Dryness,Eye Bags,                                 1\n",
       "Lightening,,                                      1\n",
       "Lightening,Dryness,                               1\n",
       "Lightening,Dark Circles,Dryness                   1\n",
       "Name: concern, dtype: int64"
      ]
     },
     "execution_count": 13,
     "metadata": {},
     "output_type": "execute_result"
    }
   ],
   "source": [
    "df2[df2['label'] ==  'eye-cream']['concern'].value_counts()"
   ]
  },
  {
   "cell_type": "code",
   "execution_count": 14,
   "id": "fce3fe39",
   "metadata": {},
   "outputs": [
    {
     "data": {
      "text/plain": [
       "Series([], Name: concern, dtype: int64)"
      ]
     },
     "execution_count": 14,
     "metadata": {},
     "output_type": "execute_result"
    }
   ],
   "source": [
    "df2['concern'] = df2['concern'].str.lower()\n",
    "# df2[df2['label'] == 'face-moisturisers']['concern'].value_counts()\n",
    "# df2[df2['label'] == 'mask-and-peel']['concern'].value_counts()\n",
    "df2[df2['label'] == 'sunscreen']['concern'].value_counts()\n",
    "\n"
   ]
  },
  {
   "cell_type": "code",
   "execution_count": 15,
   "id": "26c66535",
   "metadata": {},
   "outputs": [
    {
     "name": "stdout",
     "output_type": "stream",
     "text": [
      "<class 'pandas.core.frame.DataFrame'>\n",
      "Int64Index: 967 entries, 0 to 966\n",
      "Data columns (total 7 columns):\n",
      " #   Column     Non-Null Count  Dtype \n",
      "---  ------     --------------  ----- \n",
      " 0   label      967 non-null    object\n",
      " 1   url        967 non-null    object\n",
      " 2   brand      967 non-null    object\n",
      " 3   name       967 non-null    object\n",
      " 4   price      967 non-null    object\n",
      " 5   skin type  967 non-null    object\n",
      " 6   concern    967 non-null    object\n",
      "dtypes: object(7)\n",
      "memory usage: 60.4+ KB\n"
     ]
    }
   ],
   "source": [
    "top_concerns = {'face-moisturisers':'general care', 'mask-and-peel':'daily use', 'cleanser':'general care', 'eye-cream':'fine lines,wrinkles,dark circles,eye bags' }\n",
    "entries = len(df2)\n",
    "for i in range(entries):\n",
    "    label = df2.iloc[i]['label']\n",
    "    if pd.isnull(df2.iloc[i]['concern']):\n",
    "        df2.iloc[i]['concern'] = top_concerns[label]\n",
    "df2.info()\n",
    "\n",
    "    "
   ]
  },
  {
   "cell_type": "code",
   "execution_count": 16,
   "id": "45ae57db",
   "metadata": {},
   "outputs": [],
   "source": [
    "# df2.to_csv('general_skincare.csv')"
   ]
  },
  {
   "cell_type": "code",
   "execution_count": 17,
   "id": "e9dd8a89",
   "metadata": {},
   "outputs": [
    {
     "data": {
      "text/html": [
       "<div>\n",
       "<style scoped>\n",
       "    .dataframe tbody tr th:only-of-type {\n",
       "        vertical-align: middle;\n",
       "    }\n",
       "\n",
       "    .dataframe tbody tr th {\n",
       "        vertical-align: top;\n",
       "    }\n",
       "\n",
       "    .dataframe thead th {\n",
       "        text-align: right;\n",
       "    }\n",
       "</style>\n",
       "<table border=\"1\" class=\"dataframe\">\n",
       "  <thead>\n",
       "    <tr style=\"text-align: right;\">\n",
       "      <th></th>\n",
       "      <th>label</th>\n",
       "      <th>url</th>\n",
       "      <th>brand</th>\n",
       "      <th>name</th>\n",
       "      <th>price</th>\n",
       "      <th>skin type</th>\n",
       "      <th>concern</th>\n",
       "    </tr>\n",
       "  </thead>\n",
       "  <tbody>\n",
       "    <tr>\n",
       "      <th>0</th>\n",
       "      <td>face-moisturisers</td>\n",
       "      <td>https://www.myntra.com/face-moisturisers/lakme...</td>\n",
       "      <td>lakme</td>\n",
       "      <td>absolute perfect radiance skin lightening day ...</td>\n",
       "      <td>₹ 79</td>\n",
       "      <td>all</td>\n",
       "      <td>general care,,</td>\n",
       "    </tr>\n",
       "    <tr>\n",
       "      <th>1</th>\n",
       "      <td>face-moisturisers</td>\n",
       "      <td>https://www.myntra.com/face-moisturisers/bioti...</td>\n",
       "      <td>biotique</td>\n",
       "      <td>bio morning nectar flawless sustainable skin m...</td>\n",
       "      <td>₹ 165</td>\n",
       "      <td>all</td>\n",
       "      <td>uneven skin tone,hydration,dark spots</td>\n",
       "    </tr>\n",
       "    <tr>\n",
       "      <th>2</th>\n",
       "      <td>face-moisturisers</td>\n",
       "      <td>https://www.myntra.com/face-moisturisers/nivea...</td>\n",
       "      <td>nivea</td>\n",
       "      <td>unisex aloe hydration skin cream 100 ml</td>\n",
       "      <td>₹ 92</td>\n",
       "      <td>all</td>\n",
       "      <td>dull skin,dryness,general care</td>\n",
       "    </tr>\n",
       "    <tr>\n",
       "      <th>3</th>\n",
       "      <td>face-moisturisers</td>\n",
       "      <td>https://www.myntra.com/face-moisturisers/vi-jo...</td>\n",
       "      <td>vi-john</td>\n",
       "      <td>women set of 5 saffron fairness cream advanced</td>\n",
       "      <td>₹ 187</td>\n",
       "      <td>all</td>\n",
       "      <td>softening,smoothening,softening,smoothening,su...</td>\n",
       "    </tr>\n",
       "    <tr>\n",
       "      <th>4</th>\n",
       "      <td>face-moisturisers</td>\n",
       "      <td>https://www.myntra.com/face-moisturisers/lakme...</td>\n",
       "      <td>lakme</td>\n",
       "      <td>peach milk soft creme 150g</td>\n",
       "      <td>₹ 192</td>\n",
       "      <td>all</td>\n",
       "      <td>general care,,</td>\n",
       "    </tr>\n",
       "    <tr>\n",
       "      <th>...</th>\n",
       "      <td>...</td>\n",
       "      <td>...</td>\n",
       "      <td>...</td>\n",
       "      <td>...</td>\n",
       "      <td>...</td>\n",
       "      <td>...</td>\n",
       "      <td>...</td>\n",
       "    </tr>\n",
       "    <tr>\n",
       "      <th>962</th>\n",
       "      <td>eye-cream</td>\n",
       "      <td>https://www.myntra.com/eye-cream/skinkraft/ski...</td>\n",
       "      <td>skinkraft</td>\n",
       "      <td>vitamin c+e under eye gel for pigmented under ...</td>\n",
       "      <td>₹ 449</td>\n",
       "      <td>all</td>\n",
       "      <td>dark circles,,</td>\n",
       "    </tr>\n",
       "    <tr>\n",
       "      <th>963</th>\n",
       "      <td>eye-cream</td>\n",
       "      <td>https://www.myntra.com/eye-cream/casmara/casma...</td>\n",
       "      <td>casmara</td>\n",
       "      <td>eye-cream 15 ml</td>\n",
       "      <td>₹ 2200</td>\n",
       "      <td>all</td>\n",
       "      <td>fine lines,wrinkles,dark circles,</td>\n",
       "    </tr>\n",
       "    <tr>\n",
       "      <th>964</th>\n",
       "      <td>eye-cream</td>\n",
       "      <td>https://www.myntra.com/eye-cream/myglamm/mygla...</td>\n",
       "      <td>myglamm</td>\n",
       "      <td>white youthfull hydrating eye cream with water...</td>\n",
       "      <td>₹ 716</td>\n",
       "      <td>all</td>\n",
       "      <td>dark circles,dark circles,eye bags</td>\n",
       "    </tr>\n",
       "    <tr>\n",
       "      <th>965</th>\n",
       "      <td>eye-cream</td>\n",
       "      <td>https://www.myntra.com/eye-cream/makeup-revolu...</td>\n",
       "      <td>makeup revolution london</td>\n",
       "      <td>hydro bank hydrating &amp; cooling eye balm</td>\n",
       "      <td>₹ 1050</td>\n",
       "      <td>all</td>\n",
       "      <td>fine lines,wrinkles,dark circles,eye bags</td>\n",
       "    </tr>\n",
       "    <tr>\n",
       "      <th>966</th>\n",
       "      <td>eye-cream</td>\n",
       "      <td>https://www.myntra.com/eye-cream/yves-rocher/y...</td>\n",
       "      <td>yves rocher</td>\n",
       "      <td>white botanical exceptional youth sustainable ...</td>\n",
       "      <td>₹ 1035</td>\n",
       "      <td>all</td>\n",
       "      <td>dark circles,eye bags,dryness</td>\n",
       "    </tr>\n",
       "  </tbody>\n",
       "</table>\n",
       "<p>967 rows × 7 columns</p>\n",
       "</div>"
      ],
      "text/plain": [
       "                 label                                                url  \\\n",
       "0    face-moisturisers  https://www.myntra.com/face-moisturisers/lakme...   \n",
       "1    face-moisturisers  https://www.myntra.com/face-moisturisers/bioti...   \n",
       "2    face-moisturisers  https://www.myntra.com/face-moisturisers/nivea...   \n",
       "3    face-moisturisers  https://www.myntra.com/face-moisturisers/vi-jo...   \n",
       "4    face-moisturisers  https://www.myntra.com/face-moisturisers/lakme...   \n",
       "..                 ...                                                ...   \n",
       "962          eye-cream  https://www.myntra.com/eye-cream/skinkraft/ski...   \n",
       "963          eye-cream  https://www.myntra.com/eye-cream/casmara/casma...   \n",
       "964          eye-cream  https://www.myntra.com/eye-cream/myglamm/mygla...   \n",
       "965          eye-cream  https://www.myntra.com/eye-cream/makeup-revolu...   \n",
       "966          eye-cream  https://www.myntra.com/eye-cream/yves-rocher/y...   \n",
       "\n",
       "                        brand  \\\n",
       "0                       lakme   \n",
       "1                    biotique   \n",
       "2                       nivea   \n",
       "3                     vi-john   \n",
       "4                       lakme   \n",
       "..                        ...   \n",
       "962                 skinkraft   \n",
       "963                   casmara   \n",
       "964                   myglamm   \n",
       "965  makeup revolution london   \n",
       "966               yves rocher   \n",
       "\n",
       "                                                  name   price skin type  \\\n",
       "0    absolute perfect radiance skin lightening day ...    ₹ 79       all   \n",
       "1    bio morning nectar flawless sustainable skin m...   ₹ 165       all   \n",
       "2              unisex aloe hydration skin cream 100 ml    ₹ 92       all   \n",
       "3       women set of 5 saffron fairness cream advanced   ₹ 187       all   \n",
       "4                           peach milk soft creme 150g   ₹ 192       all   \n",
       "..                                                 ...     ...       ...   \n",
       "962  vitamin c+e under eye gel for pigmented under ...   ₹ 449       all   \n",
       "963                                    eye-cream 15 ml  ₹ 2200       all   \n",
       "964  white youthfull hydrating eye cream with water...   ₹ 716       all   \n",
       "965            hydro bank hydrating & cooling eye balm  ₹ 1050       all   \n",
       "966  white botanical exceptional youth sustainable ...  ₹ 1035       all   \n",
       "\n",
       "                                               concern  \n",
       "0                                       general care,,  \n",
       "1                uneven skin tone,hydration,dark spots  \n",
       "2                       dull skin,dryness,general care  \n",
       "3    softening,smoothening,softening,smoothening,su...  \n",
       "4                                       general care,,  \n",
       "..                                                 ...  \n",
       "962                                     dark circles,,  \n",
       "963                  fine lines,wrinkles,dark circles,  \n",
       "964                 dark circles,dark circles,eye bags  \n",
       "965          fine lines,wrinkles,dark circles,eye bags  \n",
       "966                      dark circles,eye bags,dryness  \n",
       "\n",
       "[967 rows x 7 columns]"
      ]
     },
     "execution_count": 17,
     "metadata": {},
     "output_type": "execute_result"
    }
   ],
   "source": [
    "df2['brand'] = df2['brand'].str.lower()\n",
    "df2['name'] = df2['name'].str.lower()\n",
    "df2['skin type'] = df2['skin type'].str.lower()\n",
    "df2['concern'] = df2['concern'].str.replace(' and ', ',').str.replace(' or ', ',')\n",
    "df2"
   ]
  },
  {
   "cell_type": "code",
   "execution_count": 18,
   "id": "c6081aef",
   "metadata": {},
   "outputs": [],
   "source": [
    "def concern_elements(comma_sep_concerns):\n",
    "    words = comma_sep_concerns.split(',')\n",
    "    for w in words:\n",
    "        if w != '':\n",
    "            temp = w.rstrip()\n",
    "            if temp in concerns:\n",
    "                concerns[temp] += 1\n",
    "            else:\n",
    "                concerns[temp] = 1\n",
    "\n",
    "\n",
    "            \n",
    "# features\n",
    "list(df2['skin type'].unique())\n",
    "concerns = {}\n",
    "for i in range(entries):\n",
    "    concern_elements(df2.iloc[i]['concern'])\n",
    "    "
   ]
  },
  {
   "cell_type": "code",
   "execution_count": null,
   "id": "e9cb62a8",
   "metadata": {},
   "outputs": [],
   "source": []
  },
  {
   "cell_type": "code",
   "execution_count": 19,
   "id": "43bfe84f",
   "metadata": {},
   "outputs": [
    {
     "name": "stdout",
     "output_type": "stream",
     "text": [
      "[('anti acne scarring', 1), ('anti-ageing', 2), ('skin tightening', 2), ('blackheads removal', 4), ('irregular textures', 6), ('skin inflammation', 11), ('oil control', 15), ('redness', 15), ('oily skin', 16), ('skin sagging', 20), ('sun protection', 21), ('lightening', 27), ('tan removal', 48), ('anti-pollution', 60), ('eye bags', 60), ('blackheads', 61), ('whiteheads', 61), ('dark spots', 71), ('pigmentation', 71), ('uneven skin tone', 76), ('excess oil', 90), ('dark circles', 103), ('deep nourishment', 106), ('pore care', 110), ('smoothening', 112), ('softening', 112), ('dryness', 119), ('fine lines', 133), ('wrinkles', 133), ('acne', 155), ('blemishes', 155), ('hydration', 156), ('daily use', 158), ('general care', 158), ('dull skin', 166)]\n"
     ]
    }
   ],
   "source": [
    "print(sorted(concerns.items(), key =\n",
    "             lambda kv:(kv[1], kv[0])))   "
   ]
  },
  {
   "cell_type": "code",
   "execution_count": 20,
   "id": "ea53fef4",
   "metadata": {},
   "outputs": [
    {
     "data": {
      "text/plain": [
       "90"
      ]
     },
     "execution_count": 20,
     "metadata": {},
     "output_type": "execute_result"
    }
   ],
   "source": [
    "concerns.pop('anti acne scarring')\n",
    "concerns.pop('anti-ageing')\n",
    "concerns.pop('skin tightening')\n",
    "concerns.pop('blackheads removal')\n",
    "concerns.pop('irregular textures')\n",
    "concerns.pop('skin inflammation')\n",
    "concerns.pop('oil control')\n",
    "concerns.pop('redness')\n",
    "concerns.pop('oily skin')\n",
    "concerns.pop('skin sagging')\n",
    "concerns.pop('sun protection')\n",
    "concerns.pop('lightening')\n",
    "concerns.pop('tan removal')\n",
    "concerns.pop('excess oil')\n",
    "\n",
    "# concerns.pop('anti acne scarring')\n",
    "# concerns['scarring'] = \n",
    "# concerns.remo('blackheads removal')\n",
    "# concerns.remove('dull skin')\n",
    "# # concerns.remove('dullness')\n",
    "# concerns.add('dull')\n",
    "# concerns.remove('oily skin')\n",
    "# concerns.remove('excess oil')\n",
    "# concerns.remove('oil control')\n",
    "# concerns.add('oil')"
   ]
  },
  {
   "cell_type": "code",
   "execution_count": 21,
   "id": "d5d0b141",
   "metadata": {},
   "outputs": [],
   "source": [
    "features = list(df2['skin type'].unique()) + list(concerns)\n",
    "(features)\n",
    "\n",
    "features = ['normal','dry','oily','combination', 'acne','sensitive','fine lines', 'wrinkles', 'redness', 'dull', 'pore', 'pigmentation', 'blackheads','whiteheads', 'blemishes', 'dark circles', 'eye bags', 'dark spots']"
   ]
  },
  {
   "cell_type": "code",
   "execution_count": 22,
   "id": "ad98a1a7",
   "metadata": {},
   "outputs": [
    {
     "name": "stdout",
     "output_type": "stream",
     "text": [
      "<class 'pandas.core.frame.DataFrame'>\n",
      "Int64Index: 967 entries, 0 to 966\n",
      "Data columns (total 7 columns):\n",
      " #   Column     Non-Null Count  Dtype \n",
      "---  ------     --------------  ----- \n",
      " 0   label      967 non-null    object\n",
      " 1   url        967 non-null    object\n",
      " 2   brand      967 non-null    object\n",
      " 3   name       967 non-null    object\n",
      " 4   price      967 non-null    object\n",
      " 5   skin type  967 non-null    object\n",
      " 6   concern    967 non-null    object\n",
      "dtypes: object(7)\n",
      "memory usage: 60.4+ KB\n"
     ]
    }
   ],
   "source": [
    "df2.info()"
   ]
  },
  {
   "cell_type": "code",
   "execution_count": 23,
   "id": "56fc0a23",
   "metadata": {},
   "outputs": [
    {
     "data": {
      "text/plain": [
       "18"
      ]
     },
     "execution_count": 23,
     "metadata": {},
     "output_type": "execute_result"
    }
   ],
   "source": [
    "len(features)"
   ]
  },
  {
   "cell_type": "code",
   "execution_count": 24,
   "id": "1db8d323",
   "metadata": {},
   "outputs": [],
   "source": [
    "def search_concern(target, i):\n",
    "    if target in df2.iloc[i]['concern']:\n",
    "        return True\n",
    "    return False\n",
    "\n",
    "one_hot_encodings = np.zeros([entries, len(features)])\n",
    "\n",
    "#skin types first\n",
    "for i in range(entries):\n",
    "    for j in range(5):\n",
    "        target = features[j]\n",
    "        sk_type = df2.iloc[i]['skin type']\n",
    "        if sk_type == 'all':\n",
    "            one_hot_encodings[i][0:5] = 1\n",
    "        elif target == sk_type:\n",
    "            one_hot_encodings[i][j] = 1\n",
    "\n",
    "#other features\n",
    "for i in range(entries):\n",
    "    for j in range(5, len(features)):\n",
    "        feature = features[j]\n",
    "        if feature in df2.iloc[i]['concern']:\n",
    "            one_hot_encodings[i][j] = 1\n",
    "            \n",
    "    "
   ]
  },
  {
   "cell_type": "code",
   "execution_count": 25,
   "id": "93e1c061",
   "metadata": {},
   "outputs": [],
   "source": [
    "x = one_hot_encodings[456]"
   ]
  },
  {
   "cell_type": "code",
   "execution_count": 26,
   "id": "73d39607",
   "metadata": {},
   "outputs": [],
   "source": [
    "from sklearn.neighbors import NearestNeighbors\n",
    "nbrs = NearestNeighbors(n_neighbors=6, algorithm='ball_tree').fit(one_hot_encodings)\n",
    "distances, indices = nbrs.kneighbors(one_hot_encodings)\n",
    "\n",
    "# get_index_from_name('peach milk soft creme 150g')\n"
   ]
  },
  {
   "cell_type": "code",
   "execution_count": 27,
   "id": "2c86fab3",
   "metadata": {},
   "outputs": [],
   "source": [
    "# finding the closes data points\n",
    "def recs_nn(query=None,id=None):\n",
    "    if id:\n",
    "        for id in indices[id][1:]:\n",
    "            print(anime.ix[id][\"name\"])\n",
    "    if query:\n",
    "        found_id = get_index_from_name(query)\n",
    "        for id in indices[found_id][1:]:\n",
    "            print(index2prod(id))"
   ]
  },
  {
   "cell_type": "markdown",
   "id": "f5e79c5f",
   "metadata": {},
   "source": [
    "## Cosine Similarity"
   ]
  },
  {
   "cell_type": "code",
   "execution_count": 28,
   "id": "d032f52f",
   "metadata": {},
   "outputs": [],
   "source": [
    "# utility functions\n",
    "def name2index(name):\n",
    "    return df2[df2[\"name\"]==name].index.tolist()[0]\n",
    "\n",
    "def index2prod(index):\n",
    "    return df2.iloc[index]"
   ]
  },
  {
   "cell_type": "code",
   "execution_count": 29,
   "id": "a6f55dab",
   "metadata": {},
   "outputs": [],
   "source": [
    "\n",
    "def wrap(info_arr):\n",
    "    result = {}\n",
    "#     print(info_arr)\n",
    "    result['brand'] = info_arr[0]\n",
    "    result['name'] = info_arr[1]\n",
    "    result['price'] = info_arr[2]\n",
    "    result['url'] = info_arr[3]\n",
    "    result['skin type'] = info_arr[4]\n",
    "    result['concern'] = str(info_arr[5]).split(',')\n",
    "    return result\n",
    "\n",
    "\n",
    "# recommend top 10 similar items from a category\n",
    "def recs_cs(vector = None, name = None, label = None, count = 5):\n",
    "    products = []\n",
    "    if name:\n",
    "        idx = name2index(name)\n",
    "        fv = one_hot_encodings[idx]\n",
    "    elif vector:\n",
    "        fv = vector\n",
    "    cs_values = cosine_similarity(np.array([fv, ]), one_hot_encodings)\n",
    "    df2['cs'] = cs_values[0]\n",
    "    \n",
    "    if label:\n",
    "        dff = df2[df2['label'] == label]\n",
    "    else:\n",
    "        dff = df2\n",
    "    \n",
    "    if name:\n",
    "        dff = dff[dff['name'] != name]\n",
    "    recommendations = dff.sort_values('cs', ascending=False).head(count)\n",
    "    #   print(f\"Top {count} matching {label} items\")\n",
    "    data = recommendations[['brand', 'name', 'price', 'url','skin type','concern']].to_dict('split')['data']\n",
    "    for element in data:\n",
    "        products.append(wrap(element))\n",
    "    return products"
   ]
  },
  {
   "cell_type": "code",
   "execution_count": 30,
   "id": "e332e04a",
   "metadata": {},
   "outputs": [],
   "source": [
    "# overall recommendation\n",
    "def recs_essentials(vector = None, name = None):\n",
    "#     print(\"ESSENTIALS:\")\n",
    "    response = {}\n",
    "    for label in LABELS:\n",
    "#         print(f\"{label}:\")\n",
    "        if name: \n",
    "            r = recs_cs(None, name, label)\n",
    "        elif vector:\n",
    "            r = recs_cs(vector, None, label)\n",
    "        response[label] = r\n",
    "    return response\n",
    "            "
   ]
  },
  {
   "cell_type": "code",
   "execution_count": 31,
   "id": "fc00273f",
   "metadata": {},
   "outputs": [
    {
     "data": {
      "text/plain": [
       "{'face-moisturisers': [{'brand': 'azani active care',\n",
       "   'name': 'unisex acne rescue cream - 30 ml',\n",
       "   'price': '₹ 399',\n",
       "   'url': 'https://www.myntra.com/face-moisturisers/azani-active-care/azani-active-care-unisex-acne-rescue-cream---30-ml/15322518/buy',\n",
       "   'skin type': 'all',\n",
       "   'concern': ['deep nourishment', 'acne', 'blemishes', 'dull skin']},\n",
       "  {'brand': 'mamaearth',\n",
       "   'name': 'vitamin c face milk with peach for skin illumination 100 ml',\n",
       "   'price': '₹ 404',\n",
       "   'url': 'https://www.myntra.com/face-moisturisers/mamaearth/mamaearth-vitamin-c-face-milk-with-peach-for-skin-illumination-100-ml/12411986/buy',\n",
       "   'skin type': 'all',\n",
       "   'concern': ['acne', 'blemishes', 'pigmentation', 'dull skin']},\n",
       "  {'brand': 'garnier',\n",
       "   'name': 'men acno fight pimple clearing whitening cream 45 g',\n",
       "   'price': '₹ 140',\n",
       "   'url': 'https://www.myntra.com/face-moisturisers/garnier/garnier-men-acno-fight-pimple-clearing-whitening-cream-45-g/7337801/buy',\n",
       "   'skin type': 'all',\n",
       "   'concern': ['acne', 'blemishes', '', '']},\n",
       "  {'brand': 'biotique',\n",
       "   'name': 'advanced bxl cellular whitening cream 50 g',\n",
       "   'price': '₹ 589',\n",
       "   'url': 'https://www.myntra.com/face-moisturisers/biotique/biotique-advanced-bxl-cellular-whitening-cream-50-g/1661463/buy',\n",
       "   'skin type': 'all',\n",
       "   'concern': ['uneven skin tone', 'dull skin', 'hydration']},\n",
       "  {'brand': 'innisfree',\n",
       "   'name': 'cherry blossom tone-up cream spf 30 pa++ 50 ml',\n",
       "   'price': '₹ 1602',\n",
       "   'url': 'https://www.myntra.com/face-moisturisers/innisfree/innisfree-cherry-blossom-tone-up-cream-spf-30-pa-50-ml/12114508/buy',\n",
       "   'skin type': 'all',\n",
       "   'concern': ['sun protection', 'dull skin', 'hydration']}],\n",
       " 'cleanser': [{'brand': 'just herbs',\n",
       "   'name': 'unisex aglow neem-chandan skin purifying face cleanser 65 g',\n",
       "   'price': '₹ 616',\n",
       "   'url': 'https://www.myntra.com/face-wash-and-cleanser/just-herbs/just-herbs-unisex-aglow-neem-chandan-skin-purifying-face-cleanser-65-g/11449796/buy',\n",
       "   'skin type': 'all',\n",
       "   'concern': ['dull skin', 'general care', 'acne', 'blemishes']},\n",
       "  {'brand': 'biotique',\n",
       "   'name': 'bio neem purifying face wash 150 ml',\n",
       "   'price': '₹ 91',\n",
       "   'url': 'https://www.myntra.com/face-wash-and-cleanser/biotique/biotique-bio-neem-purifying-face-wash-150-ml/1919965/buy',\n",
       "   'skin type': 'all',\n",
       "   'concern': ['acne', 'blemishes', 'dull skin', 'dull skin']},\n",
       "  {'brand': 'biotique',\n",
       "   'name': 'bio neem sustainable purifying face wash 200 ml',\n",
       "   'price': '₹ 144',\n",
       "   'url': 'https://www.myntra.com/face-wash-and-cleanser/biotique/biotique-bio-neem-sustainable-purifying-face-wash-200-ml/9313575/buy',\n",
       "   'skin type': 'all',\n",
       "   'concern': ['acne', 'blemishes', 'dull skin', 'dull skin']},\n",
       "  {'brand': 'wow skin science',\n",
       "   'name': 'wow skin science vitamin c face wash 100 ml',\n",
       "   'price': '₹ 199',\n",
       "   'url': 'https://www.myntra.com/face-wash-and-cleanser/wow-skin-science/wow-skin-science-vitamin-c-face-wash-100-ml/12426290/buy',\n",
       "   'skin type': 'all',\n",
       "   'concern': ['acne', 'blemishes', 'dull skin', 'pigmentation']},\n",
       "  {'brand': 'wow skin science',\n",
       "   'name': 'brightening vitamin c foaming face wash with built-in face brush - 100 ml',\n",
       "   'price': '₹ 327',\n",
       "   'url': 'https://www.myntra.com/face-wash-and-cleanser/wow-skin-science/wow-skin-science-brightening-vitamin-c-foaming-face-wash-with-built-in-face-brush---100-ml/12426284/buy',\n",
       "   'skin type': 'all',\n",
       "   'concern': ['anti-pollution', 'deep nourishment', 'acne', 'blemishes']}],\n",
       " 'mask-and-peel': [{'brand': 'nutriglow',\n",
       "   'name': 'bridal glow face pack for all skin types',\n",
       "   'price': '₹ 292',\n",
       "   'url': 'https://www.myntra.com/mask-and-peel/nutriglow/nutriglow-bridal-glow-face-pack-for-all-skin-types/10375287/buy',\n",
       "   'skin type': 'all',\n",
       "   'concern': ['acne', 'blemishes', 'dull skin', 'deep nourishment']},\n",
       "  {'brand': 'casmara',\n",
       "   'name': 'casmara goji mask 2070',\n",
       "   'price': '₹ 4560',\n",
       "   'url': 'https://www.myntra.com/mask-and-peel/casmara/casmara-goji-mask-2070/15286122/buy',\n",
       "   'skin type': 'all',\n",
       "   'concern': ['acne', 'blemishes', 'dull skin', 'softening', 'smoothening']},\n",
       "  {'brand': 'nutriglow',\n",
       "   'name': 'bridal glow face pack for all skin types',\n",
       "   'price': '₹ 292',\n",
       "   'url': 'https://www.myntra.com/mask-and-peel/nutriglow/nutriglow-bridal-glow-face-pack-for-all-skin-types/10375287/buy',\n",
       "   'skin type': 'all',\n",
       "   'concern': ['acne', 'blemishes', 'dull skin', 'deep nourishment']},\n",
       "  {'brand': 'good vibes',\n",
       "   'name': 'papaya glow face mask 100 g',\n",
       "   'price': '₹ 251',\n",
       "   'url': 'https://www.myntra.com/mask-and-peel/good-vibes/good-vibes-papaya-glow-face-mask-100-g/14314910/buy',\n",
       "   'skin type': 'all',\n",
       "   'concern': ['dull skin', 'tan removal', 'acne', 'blemishes']},\n",
       "  {'brand': 'nutriglow',\n",
       "   'name': 'bridal glow face pack for all skin types',\n",
       "   'price': '₹ 292',\n",
       "   'url': 'https://www.myntra.com/mask-and-peel/nutriglow/nutriglow-bridal-glow-face-pack-for-all-skin-types/10375287/buy',\n",
       "   'skin type': 'all',\n",
       "   'concern': ['acne', 'blemishes', 'dull skin', 'deep nourishment']}],\n",
       " 'eye-cream': [{'brand': 'the face shop',\n",
       "   'name': 'pomegranate & collagen volume lifting eye cream 100 ml',\n",
       "   'price': '₹ 1827',\n",
       "   'url': 'https://www.myntra.com/eye-cream/the-face-shop/the-face-shop-pomegranate--collagen-volume-lifting-eye-cream-100-ml/9113681/buy',\n",
       "   'skin type': 'all',\n",
       "   'concern': ['dryness', 'eye bags', '']},\n",
       "  {'brand': 'biotique',\n",
       "   'name': 'bio morning nectar flawless lightening sustainable eye cream - 30+ spf 15 g',\n",
       "   'price': '₹ 159',\n",
       "   'url': 'https://www.myntra.com/eye-cream/biotique/biotique-bio-morning-nectar-flawless-lightening-sustainable-eye-cream---30-spf-15-g/1661452/buy',\n",
       "   'skin type': 'all',\n",
       "   'concern': ['dark circles', 'eye bags', 'dark circles']},\n",
       "  {'brand': 'skinkraft',\n",
       "   'name': 'women alpha arbutin countertime intense under eye repair gel - 15 gm',\n",
       "   'price': '₹ 449',\n",
       "   'url': 'https://www.myntra.com/eye-cream/skinkraft/skinkraft-women-alpha-arbutin-countertime-intense-under-eye-repair-gel---15-gm/15345864/buy',\n",
       "   'skin type': 'all',\n",
       "   'concern': ['dark circles', 'eye bags', '']},\n",
       "  {'brand': 'samisha',\n",
       "   'name': 'samisha organic under eye dark circles removal cream gel',\n",
       "   'price': '₹ 499',\n",
       "   'url': 'https://www.myntra.com/eye-cream/samisha/samisha-organic-under-eye-dark-circles-removal-cream-gel/14504358/buy',\n",
       "   'skin type': 'all',\n",
       "   'concern': ['dark circles', 'eye bags', 'dryness']},\n",
       "  {'brand': 'biotique',\n",
       "   'name': 'unisex bio sustainable set of anti-fatigue eye gel & tan-removal scrub',\n",
       "   'price': '₹ 398',\n",
       "   'url': 'https://www.myntra.com/eye-cream/biotique/biotique-unisex-bio-sustainable-set-of-anti-fatigue-eye-gel--tan-removal-scrub/13538488/buy',\n",
       "   'skin type': 'all',\n",
       "   'concern': ['dark circles', 'eye bags', '']}]}"
      ]
     },
     "execution_count": 31,
     "metadata": {},
     "output_type": "execute_result"
    }
   ],
   "source": [
    "# features = ['normal','dry','oily','combination', 'acne','sensitive','fine lines', 'wrinkles', 'redness', 'dull', 'pore ', 'pigmentation', 'blackheads','whiteheads', 'blemishes', 'dark circles', 'eye bags', 'dark spots']\n",
    "x = [1,1,1,1,0,1,0,0,0,1,0,0,0,0,1,0,1,0]\n",
    "\n",
    "y = recs_essentials(x, None)\n",
    "y"
   ]
  },
  {
   "cell_type": "markdown",
   "id": "d02c490c",
   "metadata": {},
   "source": [
    "## Makeup Items"
   ]
  },
  {
   "cell_type": "code",
   "execution_count": 32,
   "id": "432359f9",
   "metadata": {},
   "outputs": [
    {
     "name": "stdout",
     "output_type": "stream",
     "text": [
      "<class 'pandas.core.frame.DataFrame'>\n",
      "RangeIndex: 790 entries, 0 to 789\n",
      "Data columns (total 13 columns):\n",
      " #   Column          Non-Null Count  Dtype  \n",
      "---  ------          --------------  -----  \n",
      " 0   label           790 non-null    object \n",
      " 1   url             790 non-null    object \n",
      " 2   brand           790 non-null    object \n",
      " 3   name            790 non-null    object \n",
      " 4   price           790 non-null    object \n",
      " 5   skin type       443 non-null    object \n",
      " 6   skin tone       494 non-null    object \n",
      " 7   spf             108 non-null    object \n",
      " 8   concern         379 non-null    object \n",
      " 9   concern 2       0 non-null      float64\n",
      " 10  concern 3       0 non-null      float64\n",
      " 11  key ingredient  118 non-null    object \n",
      " 12  formulation     786 non-null    object \n",
      "dtypes: float64(2), object(11)\n",
      "memory usage: 80.4+ KB\n"
     ]
    }
   ],
   "source": [
    "# info\n",
    "makeup.info()"
   ]
  },
  {
   "cell_type": "code",
   "execution_count": 33,
   "id": "75d192c9",
   "metadata": {},
   "outputs": [],
   "source": [
    "makeup.drop(columns = ['concern 2', 'concern 3', 'key ingredient', 'formulation', 'spf', 'concern'], inplace = True)"
   ]
  },
  {
   "cell_type": "code",
   "execution_count": 34,
   "id": "f69e8e0c",
   "metadata": {},
   "outputs": [
    {
     "data": {
      "text/plain": [
       "label          0\n",
       "url            0\n",
       "brand          0\n",
       "name           0\n",
       "price          0\n",
       "skin type    347\n",
       "skin tone    296\n",
       "dtype: int64"
      ]
     },
     "execution_count": 34,
     "metadata": {},
     "output_type": "execute_result"
    }
   ],
   "source": [
    "makeup.isna().sum()"
   ]
  },
  {
   "cell_type": "code",
   "execution_count": 35,
   "id": "de02a336",
   "metadata": {},
   "outputs": [],
   "source": [
    "makeup.dropna(subset=['skin tone'], inplace=True)\n"
   ]
  },
  {
   "cell_type": "code",
   "execution_count": 36,
   "id": "41c8b4b7",
   "metadata": {},
   "outputs": [
    {
     "data": {
      "text/plain": [
       "All            73\n",
       "Normal         31\n",
       "Oily            7\n",
       "Combination     3\n",
       "Dry             1\n",
       "Name: skin type, dtype: int64"
      ]
     },
     "execution_count": 36,
     "metadata": {},
     "output_type": "execute_result"
    }
   ],
   "source": [
    "makeup[makeup['label'] == 'foundation']['skin type'].value_counts()"
   ]
  },
  {
   "cell_type": "code",
   "execution_count": 37,
   "id": "d44046da",
   "metadata": {},
   "outputs": [
    {
     "data": {
      "text/plain": [
       "82"
      ]
     },
     "execution_count": 37,
     "metadata": {},
     "output_type": "execute_result"
    }
   ],
   "source": [
    "makeup[makeup['label'] == 'foundation']['skin type'].isna().sum()"
   ]
  },
  {
   "cell_type": "code",
   "execution_count": 38,
   "id": "04d3e93b",
   "metadata": {},
   "outputs": [
    {
     "data": {
      "text/plain": [
       "53"
      ]
     },
     "execution_count": 38,
     "metadata": {},
     "output_type": "execute_result"
    }
   ],
   "source": [
    "makeup[makeup['label'] == 'primer']['skin type'].isna().sum()"
   ]
  },
  {
   "cell_type": "code",
   "execution_count": 39,
   "id": "12a53f49",
   "metadata": {},
   "outputs": [
    {
     "data": {
      "text/plain": [
       "All            66\n",
       "Normal         53\n",
       "Oily           10\n",
       "Combination     1\n",
       "Name: skin type, dtype: int64"
      ]
     },
     "execution_count": 39,
     "metadata": {},
     "output_type": "execute_result"
    }
   ],
   "source": [
    "makeup[makeup['label'] == 'primer']['skin type'].value_counts()"
   ]
  },
  {
   "cell_type": "code",
   "execution_count": 40,
   "id": "210fdf57",
   "metadata": {},
   "outputs": [
    {
     "data": {
      "text/plain": [
       "70"
      ]
     },
     "execution_count": 40,
     "metadata": {},
     "output_type": "execute_result"
    }
   ],
   "source": [
    "makeup[makeup['label'] == 'concealer']['skin type'].isna().sum()"
   ]
  },
  {
   "cell_type": "code",
   "execution_count": 41,
   "id": "f1f5adf4",
   "metadata": {},
   "outputs": [
    {
     "data": {
      "text/plain": [
       "All            32\n",
       "Normal         11\n",
       "Combination     1\n",
       "Name: skin type, dtype: int64"
      ]
     },
     "execution_count": 41,
     "metadata": {},
     "output_type": "execute_result"
    }
   ],
   "source": [
    "makeup[makeup['label'] == 'concealer']['skin type'].value_counts()"
   ]
  },
  {
   "cell_type": "code",
   "execution_count": 42,
   "id": "f8c0c989",
   "metadata": {},
   "outputs": [],
   "source": [
    "makeup['skin type'].fillna('All', inplace = True)"
   ]
  },
  {
   "cell_type": "code",
   "execution_count": 43,
   "id": "15bfed55",
   "metadata": {},
   "outputs": [],
   "source": [
    "makeup['brand'] = makeup['brand'].str.lower()\n",
    "makeup['name'] = makeup['name'].str.lower()\n",
    "makeup['skin type'] = makeup['skin type'].str.lower()\n",
    "makeup['skin tone'] = makeup['skin tone'].str.lower()\n"
   ]
  },
  {
   "cell_type": "code",
   "execution_count": 44,
   "id": "451dab55",
   "metadata": {},
   "outputs": [],
   "source": [
    "def wrap_makeup(info_arr):\n",
    "    result = {}\n",
    "#     print(info_arr)\n",
    "    result['brand'] = info_arr[0]\n",
    "    result['name'] = info_arr[1]\n",
    "    result['price'] = info_arr[2]\n",
    "    result['url'] = info_arr[3]\n",
    "    result['skin type'] = info_arr[4]\n",
    "    result['skin tone'] = info_arr[5]\n",
    "    return result\n",
    "\n",
    "\n",
    "\n",
    "def makeup_recommendation(skin_tone, skin_type):\n",
    "    result = []\n",
    "    dff = pd.DataFrame()\n",
    "    dff = dff.append(makeup[(makeup['skin tone'] == skin_tone) & (makeup['skin type'] == skin_type) & (makeup['label'] == 'foundation')].head(2))\n",
    "    dff = dff.append(makeup[(makeup['skin tone'] == skin_tone) & (makeup['skin type'] == skin_type) & (makeup['label'] == 'concealer')].head(2))\n",
    "    dff = dff.append(makeup[(makeup['skin tone'] == skin_tone) & (makeup['skin type'] == skin_type) & (makeup['label'] == 'primer')].head(2))\n",
    "    dff= dff.sample(frac = 1)\n",
    "    data = dff[['brand', 'name', 'price', 'url', 'skin type', 'skin tone']].to_dict('split')['data']\n",
    "    for element in data:\n",
    "        result.append(wrap_makeup(element))\n",
    "    return result\n",
    "\n"
   ]
  },
  {
   "cell_type": "code",
   "execution_count": 45,
   "id": "ea47ecdc",
   "metadata": {},
   "outputs": [
    {
     "data": {
      "text/plain": [
       "[{'brand': 'l.a girl',\n",
       "  'name': 'warm honey hd pro concealer gc982',\n",
       "  'price': '₹ 695',\n",
       "  'url': 'https://www.myntra.com/concealer/la-girl/la-girl-warm-honey-hd-pro-concealer-gc982/2156495/buy',\n",
       "  'skin type': 'normal',\n",
       "  'skin tone': 'light to medium'},\n",
       " {'brand': 'wet n wild',\n",
       "  'name': 'sustainable photo focus natural finish setting spray - seal the deal',\n",
       "  'price': '₹ 454',\n",
       "  'url': 'https://www.myntra.com/foundation-and-primer/wet-n-wild/wet-n-wild-sustainable-photo-focus-natural-finish-setting-spray---seal-the-deal/12045972/buy',\n",
       "  'skin type': 'normal',\n",
       "  'skin tone': 'light to medium'},\n",
       " {'brand': 'faces canada',\n",
       "  'name': 'weightless matte finish mini foundation natural 02 18ml',\n",
       "  'price': '₹ 169',\n",
       "  'url': 'https://www.myntra.com/foundation-and-primer/faces-canada/faces-canada-weightless-matte-finish-mini-foundation-natural-02-18ml/14254364/buy',\n",
       "  'skin type': 'normal',\n",
       "  'skin tone': 'light to medium'},\n",
       " {'brand': 'loreal',\n",
       "  'name': 'paris true match super blendable concealer - golden beige 3dw 6.8ml',\n",
       "  'price': '₹ 849',\n",
       "  'url': 'https://www.myntra.com/concealer/loreal/loreal-paris-true-match-super-blendable-concealer---golden-beige-3dw-68ml/8051113/buy',\n",
       "  'skin type': 'normal',\n",
       "  'skin tone': 'light to medium'},\n",
       " {'brand': 'wet n wild',\n",
       "  'name': 'sustainable photo focus matte face primer - partners in prime',\n",
       "  'price': '₹ 454',\n",
       "  'url': 'https://www.myntra.com/foundation-and-primer/wet-n-wild/wet-n-wild-sustainable-photo-focus-matte-face-primer---partners-in-prime/12045988/buy',\n",
       "  'skin type': 'normal',\n",
       "  'skin tone': 'light to medium'},\n",
       " {'brand': 'faces canada',\n",
       "  'name': 'ultime pro makeup fixer',\n",
       "  'price': '₹ 486',\n",
       "  'url': 'https://www.myntra.com/foundation-and-primer/faces-canada/faces-canada-ultime-pro-makeup-fixer/2421530/buy',\n",
       "  'skin type': 'normal',\n",
       "  'skin tone': 'light to medium'}]"
      ]
     },
     "execution_count": 45,
     "metadata": {},
     "output_type": "execute_result"
    }
   ],
   "source": [
    "makeup_recommendation('light to medium', 'normal')"
   ]
  },
  {
   "cell_type": "code",
   "execution_count": 50,
   "id": "50a3eab2",
   "metadata": {},
   "outputs": [],
   "source": [
    "df2\n",
    "df2.to_csv('general_skin_care_final.csv')"
   ]
  },
  {
   "cell_type": "code",
   "execution_count": 47,
   "id": "41ce1ff2",
   "metadata": {},
   "outputs": [],
   "source": [
    "df2.drop(columns = ['cs'], inplace = True)"
   ]
  },
  {
   "cell_type": "code",
   "execution_count": 48,
   "id": "3652546c",
   "metadata": {},
   "outputs": [
    {
     "data": {
      "text/html": [
       "<div>\n",
       "<style scoped>\n",
       "    .dataframe tbody tr th:only-of-type {\n",
       "        vertical-align: middle;\n",
       "    }\n",
       "\n",
       "    .dataframe tbody tr th {\n",
       "        vertical-align: top;\n",
       "    }\n",
       "\n",
       "    .dataframe thead th {\n",
       "        text-align: right;\n",
       "    }\n",
       "</style>\n",
       "<table border=\"1\" class=\"dataframe\">\n",
       "  <thead>\n",
       "    <tr style=\"text-align: right;\">\n",
       "      <th></th>\n",
       "      <th>label</th>\n",
       "      <th>url</th>\n",
       "      <th>brand</th>\n",
       "      <th>name</th>\n",
       "      <th>price</th>\n",
       "      <th>skin type</th>\n",
       "      <th>concern</th>\n",
       "    </tr>\n",
       "  </thead>\n",
       "  <tbody>\n",
       "    <tr>\n",
       "      <th>0</th>\n",
       "      <td>face-moisturisers</td>\n",
       "      <td>https://www.myntra.com/face-moisturisers/lakme...</td>\n",
       "      <td>lakme</td>\n",
       "      <td>absolute perfect radiance skin lightening day ...</td>\n",
       "      <td>₹ 79</td>\n",
       "      <td>all</td>\n",
       "      <td>general care,,</td>\n",
       "    </tr>\n",
       "    <tr>\n",
       "      <th>1</th>\n",
       "      <td>face-moisturisers</td>\n",
       "      <td>https://www.myntra.com/face-moisturisers/bioti...</td>\n",
       "      <td>biotique</td>\n",
       "      <td>bio morning nectar flawless sustainable skin m...</td>\n",
       "      <td>₹ 165</td>\n",
       "      <td>all</td>\n",
       "      <td>uneven skin tone,hydration,dark spots</td>\n",
       "    </tr>\n",
       "    <tr>\n",
       "      <th>2</th>\n",
       "      <td>face-moisturisers</td>\n",
       "      <td>https://www.myntra.com/face-moisturisers/nivea...</td>\n",
       "      <td>nivea</td>\n",
       "      <td>unisex aloe hydration skin cream 100 ml</td>\n",
       "      <td>₹ 92</td>\n",
       "      <td>all</td>\n",
       "      <td>dull skin,dryness,general care</td>\n",
       "    </tr>\n",
       "    <tr>\n",
       "      <th>3</th>\n",
       "      <td>face-moisturisers</td>\n",
       "      <td>https://www.myntra.com/face-moisturisers/vi-jo...</td>\n",
       "      <td>vi-john</td>\n",
       "      <td>women set of 5 saffron fairness cream advanced</td>\n",
       "      <td>₹ 187</td>\n",
       "      <td>all</td>\n",
       "      <td>softening,smoothening,softening,smoothening,su...</td>\n",
       "    </tr>\n",
       "    <tr>\n",
       "      <th>4</th>\n",
       "      <td>face-moisturisers</td>\n",
       "      <td>https://www.myntra.com/face-moisturisers/lakme...</td>\n",
       "      <td>lakme</td>\n",
       "      <td>peach milk soft creme 150g</td>\n",
       "      <td>₹ 192</td>\n",
       "      <td>all</td>\n",
       "      <td>general care,,</td>\n",
       "    </tr>\n",
       "    <tr>\n",
       "      <th>...</th>\n",
       "      <td>...</td>\n",
       "      <td>...</td>\n",
       "      <td>...</td>\n",
       "      <td>...</td>\n",
       "      <td>...</td>\n",
       "      <td>...</td>\n",
       "      <td>...</td>\n",
       "    </tr>\n",
       "    <tr>\n",
       "      <th>962</th>\n",
       "      <td>eye-cream</td>\n",
       "      <td>https://www.myntra.com/eye-cream/skinkraft/ski...</td>\n",
       "      <td>skinkraft</td>\n",
       "      <td>vitamin c+e under eye gel for pigmented under ...</td>\n",
       "      <td>₹ 449</td>\n",
       "      <td>all</td>\n",
       "      <td>dark circles,,</td>\n",
       "    </tr>\n",
       "    <tr>\n",
       "      <th>963</th>\n",
       "      <td>eye-cream</td>\n",
       "      <td>https://www.myntra.com/eye-cream/casmara/casma...</td>\n",
       "      <td>casmara</td>\n",
       "      <td>eye-cream 15 ml</td>\n",
       "      <td>₹ 2200</td>\n",
       "      <td>all</td>\n",
       "      <td>fine lines,wrinkles,dark circles,</td>\n",
       "    </tr>\n",
       "    <tr>\n",
       "      <th>964</th>\n",
       "      <td>eye-cream</td>\n",
       "      <td>https://www.myntra.com/eye-cream/myglamm/mygla...</td>\n",
       "      <td>myglamm</td>\n",
       "      <td>white youthfull hydrating eye cream with water...</td>\n",
       "      <td>₹ 716</td>\n",
       "      <td>all</td>\n",
       "      <td>dark circles,dark circles,eye bags</td>\n",
       "    </tr>\n",
       "    <tr>\n",
       "      <th>965</th>\n",
       "      <td>eye-cream</td>\n",
       "      <td>https://www.myntra.com/eye-cream/makeup-revolu...</td>\n",
       "      <td>makeup revolution london</td>\n",
       "      <td>hydro bank hydrating &amp; cooling eye balm</td>\n",
       "      <td>₹ 1050</td>\n",
       "      <td>all</td>\n",
       "      <td>fine lines,wrinkles,dark circles,eye bags</td>\n",
       "    </tr>\n",
       "    <tr>\n",
       "      <th>966</th>\n",
       "      <td>eye-cream</td>\n",
       "      <td>https://www.myntra.com/eye-cream/yves-rocher/y...</td>\n",
       "      <td>yves rocher</td>\n",
       "      <td>white botanical exceptional youth sustainable ...</td>\n",
       "      <td>₹ 1035</td>\n",
       "      <td>all</td>\n",
       "      <td>dark circles,eye bags,dryness</td>\n",
       "    </tr>\n",
       "  </tbody>\n",
       "</table>\n",
       "<p>967 rows × 7 columns</p>\n",
       "</div>"
      ],
      "text/plain": [
       "                 label                                                url  \\\n",
       "0    face-moisturisers  https://www.myntra.com/face-moisturisers/lakme...   \n",
       "1    face-moisturisers  https://www.myntra.com/face-moisturisers/bioti...   \n",
       "2    face-moisturisers  https://www.myntra.com/face-moisturisers/nivea...   \n",
       "3    face-moisturisers  https://www.myntra.com/face-moisturisers/vi-jo...   \n",
       "4    face-moisturisers  https://www.myntra.com/face-moisturisers/lakme...   \n",
       "..                 ...                                                ...   \n",
       "962          eye-cream  https://www.myntra.com/eye-cream/skinkraft/ski...   \n",
       "963          eye-cream  https://www.myntra.com/eye-cream/casmara/casma...   \n",
       "964          eye-cream  https://www.myntra.com/eye-cream/myglamm/mygla...   \n",
       "965          eye-cream  https://www.myntra.com/eye-cream/makeup-revolu...   \n",
       "966          eye-cream  https://www.myntra.com/eye-cream/yves-rocher/y...   \n",
       "\n",
       "                        brand  \\\n",
       "0                       lakme   \n",
       "1                    biotique   \n",
       "2                       nivea   \n",
       "3                     vi-john   \n",
       "4                       lakme   \n",
       "..                        ...   \n",
       "962                 skinkraft   \n",
       "963                   casmara   \n",
       "964                   myglamm   \n",
       "965  makeup revolution london   \n",
       "966               yves rocher   \n",
       "\n",
       "                                                  name   price skin type  \\\n",
       "0    absolute perfect radiance skin lightening day ...    ₹ 79       all   \n",
       "1    bio morning nectar flawless sustainable skin m...   ₹ 165       all   \n",
       "2              unisex aloe hydration skin cream 100 ml    ₹ 92       all   \n",
       "3       women set of 5 saffron fairness cream advanced   ₹ 187       all   \n",
       "4                           peach milk soft creme 150g   ₹ 192       all   \n",
       "..                                                 ...     ...       ...   \n",
       "962  vitamin c+e under eye gel for pigmented under ...   ₹ 449       all   \n",
       "963                                    eye-cream 15 ml  ₹ 2200       all   \n",
       "964  white youthfull hydrating eye cream with water...   ₹ 716       all   \n",
       "965            hydro bank hydrating & cooling eye balm  ₹ 1050       all   \n",
       "966  white botanical exceptional youth sustainable ...  ₹ 1035       all   \n",
       "\n",
       "                                               concern  \n",
       "0                                       general care,,  \n",
       "1                uneven skin tone,hydration,dark spots  \n",
       "2                       dull skin,dryness,general care  \n",
       "3    softening,smoothening,softening,smoothening,su...  \n",
       "4                                       general care,,  \n",
       "..                                                 ...  \n",
       "962                                     dark circles,,  \n",
       "963                  fine lines,wrinkles,dark circles,  \n",
       "964                 dark circles,dark circles,eye bags  \n",
       "965          fine lines,wrinkles,dark circles,eye bags  \n",
       "966                      dark circles,eye bags,dryness  \n",
       "\n",
       "[967 rows x 7 columns]"
      ]
     },
     "execution_count": 48,
     "metadata": {},
     "output_type": "execute_result"
    }
   ],
   "source": [
    "df2"
   ]
  },
  {
   "cell_type": "code",
   "execution_count": 51,
   "id": "8d83c214",
   "metadata": {},
   "outputs": [
    {
     "data": {
      "text/plain": [
       "967"
      ]
     },
     "execution_count": 51,
     "metadata": {},
     "output_type": "execute_result"
    }
   ],
   "source": [
    "len(df2.to_dict('split')['data'])"
   ]
  },
  {
   "cell_type": "code",
   "execution_count": null,
   "id": "6ae8508c",
   "metadata": {},
   "outputs": [],
   "source": [
    "makeup"
   ]
  },
  {
   "cell_type": "code",
   "execution_count": null,
   "id": "b2889e09",
   "metadata": {},
   "outputs": [],
   "source": [
    "makeup.to_csv('makeup_test.csv')"
   ]
  },
  {
   "cell_type": "code",
   "execution_count": 52,
   "id": "3813293a",
   "metadata": {},
   "outputs": [],
   "source": [
    "df2.to_csv('general_test_final.csv')"
   ]
  },
  {
   "cell_type": "code",
   "execution_count": null,
   "id": "a685d6a5",
   "metadata": {},
   "outputs": [],
   "source": []
  },
  {
   "cell_type": "code",
   "execution_count": null,
   "id": "b74db70b",
   "metadata": {},
   "outputs": [],
   "source": []
  },
  {
   "cell_type": "code",
   "execution_count": null,
   "id": "50d97532",
   "metadata": {},
   "outputs": [],
   "source": []
  },
  {
   "cell_type": "code",
   "execution_count": null,
   "id": "1472d938",
   "metadata": {},
   "outputs": [],
   "source": []
  },
  {
   "cell_type": "code",
   "execution_count": null,
   "id": "b3fa8a57",
   "metadata": {},
   "outputs": [],
   "source": []
  },
  {
   "cell_type": "code",
   "execution_count": null,
   "id": "486ad809",
   "metadata": {},
   "outputs": [],
   "source": []
  },
  {
   "cell_type": "code",
   "execution_count": null,
   "id": "c43178cd",
   "metadata": {},
   "outputs": [],
   "source": []
  },
  {
   "cell_type": "code",
   "execution_count": null,
   "id": "f2d26bda",
   "metadata": {},
   "outputs": [],
   "source": []
  },
  {
   "cell_type": "code",
   "execution_count": null,
   "id": "503e5bca",
   "metadata": {},
   "outputs": [],
   "source": []
  },
  {
   "cell_type": "code",
   "execution_count": null,
   "id": "dc9cb835",
   "metadata": {},
   "outputs": [],
   "source": []
  }
 ],
 "metadata": {
  "kernelspec": {
   "display_name": "Python 3",
   "language": "python",
   "name": "python3"
  },
  "language_info": {
   "codemirror_mode": {
    "name": "ipython",
    "version": 3
   },
   "file_extension": ".py",
   "mimetype": "text/x-python",
   "name": "python",
   "nbconvert_exporter": "python",
   "pygments_lexer": "ipython3",
   "version": "3.6.9"
  }
 },
 "nbformat": 4,
 "nbformat_minor": 5
}
